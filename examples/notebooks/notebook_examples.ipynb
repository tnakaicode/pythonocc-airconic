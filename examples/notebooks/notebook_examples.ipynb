{
 "cells": [
  {
   "cell_type": "markdown",
   "metadata": {},
   "source": [
    "# Notebook for Airconics examples "
   ]
  },
  {
   "cell_type": "markdown",
   "metadata": {},
   "source": [
    "This IPython notebook contains examples for generating and rendering the AirCONICS parametric transonic airliner example using the interactive `WebServer` from [PythonOCC-contrib](https://github.com/tpaviot/pythonocc-contrib). Parts are generated under their respective headings and rendered collectively in the final cells.\n",
    "\n",
    "For examples using the pythonocc-core Qt viewer, refer to the airconics [examples/core directory](https://github.com/p-chambers/occ_airconics/tree/master/examples/core)"
   ]
  },
  {
   "cell_type": "code",
   "execution_count": null,
   "metadata": {
    "collapsed": false,
    "scrolled": false
   },
   "outputs": [],
   "source": [
    "from airconics import LiftingSurface, Engine, Fuselage\n",
    "import airconics.AirCONICStools as act\n",
    "from airconics.Addons.WebServer.TornadoWeb import TornadoWebRenderer\n",
    "from IPython.display import display"
   ]
  },
  {
   "cell_type": "markdown",
   "metadata": {},
   "source": [
    "## Parameter Definitions\n",
    "Parameters used here correspond to a geometry similar to that of the Boeing 787-8"
   ]
  },
  {
   "cell_type": "code",
   "execution_count": null,
   "metadata": {
    "collapsed": false,
    "scrolled": false
   },
   "outputs": [],
   "source": [
    "Propulsion = 1\n",
    "EngineDia = 2.9\n",
    "FuselageScaling = [55.902, 55.902, 55.902]\n",
    "WingScaleFactor = 44.56\n",
    "WingChordFactor = 1.0\n",
    "Topology = 1\n",
    "EngineSpanStation = 0.31\n",
    "EngineCtrBelowLE = 0.3558\n",
    "EngineCtrFwdOfLE = 0.9837\n",
    "Scarf_deg = 3\n",
    "\n",
    "# Derived Parameters\n",
    "FuselageHeight = FuselageScaling[2]*0.105\n",
    "FuselageLength = FuselageScaling[0]\n",
    "FuselageWidth  = FuselageScaling[1]*0.106\n",
    "WingApex = [0.1748*FuselageLength,0,-0.0523*FuselageHeight]\n",
    "# Fin:\n",
    "FinChordFact = 1.01\n",
    "FinScaleFact = WingScaleFactor/2.032\n",
    "# TailPlane\n",
    "TPChordFact = 1.01\n",
    "TPScaleFact = WingScaleFactor * 0.388\n",
    "# Engine:\n",
    "NacelleLength = 1.95*EngineDia\n",
    "\n"
   ]
  },
  {
   "cell_type": "markdown",
   "metadata": {},
   "source": [
    "## Wing, Transonic Airliner\n",
    "\n",
    "Formulation of lifting surfaces in `occ_airconics` (and AirCONICS) follows the suggestions in Sobester [1] in which geometry--attached curvilinear functionals are used instead of parameters for shape definition. That is, $G(\\textbf{f}, \\textbf{X})$, where\n",
    "\n",
    "$$\\qquad \\textbf{f} = \\left[ f_1(\\textbf{X}_1), f_2(\\textbf{X}_2), ... f_m(\\textbf{X}_m)\\right],$$\n",
    "and\n",
    "\n",
    "$$\\textbf{X}_i = \\left[x_1^i, x_2^i,...\\right], \\forall i = 1,...m$$\n",
    "\n",
    "as opposed to the conventional $G(\\bf{X})$ formulation where the shape $G$ changes in response to changes in design parameters $\\textbf{X}$. The functions $f_i$ are defined by:\n",
    "\n",
    "> $Sweep (\\epsilon)$\n",
    "\n",
    "> $Chord (\\epsilon)$\n",
    "\n",
    "> $Rotation (\\epsilon)$\n",
    "\n",
    "> $Twist (\\epsilon)$\n",
    "\n",
    "> $Airfoil (\\epsilon)$\n",
    "\n",
    "where $\\epsilon$ represents the spanwise coordinate ranging from 0 at the root of the wing to 1 at the tip. Output of the airfoil function uses the `airconics.primitives.Airfoil` class here, which fits a NURBS curve to airfoil coordinates.\n",
    "\n",
    "The following code demonstrates construction of a wing using built in examples for a transonic airliner wing and tailplane (below)."
   ]
  },
  {
   "cell_type": "code",
   "execution_count": null,
   "metadata": {
    "collapsed": false,
    "scrolled": false
   },
   "outputs": [],
   "source": [
    "# Import all example functional definitions for the Common Research Model (CRM) Wing:\n",
    "from airconics.examples.wing_example_transonic_airliner import *\n",
    "\n",
    "# Position of the apex of the wing\n",
    "P = WingApex\n",
    "\n",
    "# Class definition\n",
    "NSeg = 11\n",
    "ChordFactor = 1\n",
    "ScaleFactor = 50\n",
    "\n",
    "# Generate (surface building is done during construction of the class)\n",
    "Wing = LiftingSurface(P, mySweepAngleFunctionAirliner, \n",
    "                      myDihedralFunctionAirliner, \n",
    "                      myTwistFunctionAirliner, \n",
    "                      myChordFunctionAirliner, \n",
    "                      myAirfoilFunctionAirliner,\n",
    "                      SegmentNo=NSeg,\n",
    "                      ScaleFactor=WingScaleFactor,\n",
    "                      ChordFactor=WingChordFactor)\n",
    "\n",
    "RootChord = Wing.RootChord\n",
    "\n",
    "# Display\n",
    "renderer = TornadoWebRenderer()\n",
    "Wing.Display(renderer)\n",
    "display(renderer)"
   ]
  },
  {
   "cell_type": "markdown",
   "metadata": {
    "collapsed": false
   },
   "source": [
    "## Tailplane, Transonic Airliner\n",
    "\n",
    "The same `Lifting Surface` class is used here to generate the fin and tailplane of the aircraft, using a different set of input functionals (also defined in `airconics.examples`)."
   ]
  },
  {
   "cell_type": "code",
   "execution_count": null,
   "metadata": {
    "collapsed": false,
    "scrolled": false
   },
   "outputs": [],
   "source": [
    "from OCC.Core.gp import gp_Ax1, gp_Pnt, gp_Dir\n",
    "from airconics.examples.tailplane_example_transonic_airliner import *\n",
    "\n",
    "# Position of the apex of the fin\n",
    "P = [36.98-0.49-0.02, 0.0, 2.395-0.141]\n",
    "\n",
    "SegmentNo = 10\n",
    "\n",
    "Fin = liftingsurface.LiftingSurface(P, mySweepAngleFunctionFin,\n",
    "                                    myDihedralFunctionFin,\n",
    "                                    myTwistFunctionFin,\n",
    "                                    myChordFunctionFin,\n",
    "                                    myAirfoilFunctionFin,\n",
    "                                    SegmentNo=SegmentNo,\n",
    "                                    ChordFactor=FinChordFact,\n",
    "                                    ScaleFactor=FinScaleFact)\n",
    "\n",
    "#    Create the rotation axis centered at the apex point in the x direction\n",
    "RotAxis = gp_Ax1(gp_Pnt(*P), gp_Dir(1, 0, 0))\n",
    "\n",
    "\n",
    "Fin.RotateComponents(RotAxis, 90)\n",
    "\n",
    "# Position of the apex of the tailplane\n",
    "P = [43, 0.000, 1.633+0.02]\n",
    "\n",
    "SegmentNo = 100\n",
    "ChordFactor = 1.01\n",
    "ScaleFactor = 17.3\n",
    "\n",
    "TP = liftingsurface.LiftingSurface(P, mySweepAngleFunctionTP,\n",
    "                                   myDihedralFunctionTP,\n",
    "                                   myTwistFunctionTP,\n",
    "                                   myChordFunctionTP,\n",
    "                                   myAirfoilFunctionTP,\n",
    "                                   SegmentNo=SegmentNo,\n",
    "                                   ChordFactor=TPChordFact,\n",
    "                                   ScaleFactor=TPScaleFact)\n",
    "\n",
    "# Display\n",
    "renderer = TornadoWebRenderer()\n",
    "Fin.Display(renderer)\n",
    "TP.Display(renderer)\n",
    "display(renderer)"
   ]
  },
  {
   "cell_type": "markdown",
   "metadata": {},
   "source": [
    "## Fuselage Transonic Airliner"
   ]
  },
  {
   "cell_type": "markdown",
   "metadata": {},
   "source": [
    "Fuselage shapes are created following the parameterisation used in Sobester [2]. That is, the outer mould line (OML) is split into a `Nose`, `Central` and `Tail` section, the length of which is described on input to `Fuselage` class as a percentage of the total length. Rib curves are then formed by fitting a NURBS curve to the intersection points of sectional planar cuts and the guide curves of the extremeties of the OML e.g. Port, top and bottom curves. The OML is fitted in `occ_airconics` using the Open CASCADE `ThruSections` loft."
   ]
  },
  {
   "cell_type": "code",
   "execution_count": null,
   "metadata": {
    "collapsed": false,
    "scrolled": false
   },
   "outputs": [],
   "source": [
    "NoseLengthRatio=0.182\n",
    "TailLengthRatio=0.293\n",
    "\n",
    "Fus = Fuselage(NoseLengthRatio, TailLengthRatio, Scaling=FuselageScaling,\n",
    "              NoseCoordinates=[0., 0., 0],\n",
    "              CylindricalMidSection=False,\n",
    "              Maxi_attempt=5)\n",
    "\n",
    "# Display\n",
    "renderer = TornadoWebRenderer()\n",
    "Fus.Display(renderer)\n",
    "display(renderer)"
   ]
  },
  {
   "cell_type": "code",
   "execution_count": null,
   "metadata": {
    "collapsed": false,
    "scrolled": false
   },
   "outputs": [],
   "source": [
    "# Export (can be commented out)\n",
    "# act.export_STEPFile([Fus['OML']], 'fuselage.stp')"
   ]
  },
  {
   "cell_type": "markdown",
   "metadata": {},
   "source": [
    "## Wing-Body Fairing:\n",
    "The wing-body fairing is here created as a simple ellipsoid shape around the root section of the wing. \n",
    "\n",
    "*Note that this component will be displayed only in the final model.*"
   ]
  },
  {
   "cell_type": "code",
   "execution_count": null,
   "metadata": {
    "collapsed": false,
    "scrolled": false
   },
   "outputs": [],
   "source": [
    "# WingBodyFairing - A simple ellipsoid:\n",
    "from airconics.base import AirconicsShape\n",
    "\n",
    "WTBFZ = RootChord*0.009 #787: 0.2\n",
    "WTBFheight = 1.8*0.1212*RootChord #787:2.7\n",
    "WTBFwidth = 1.08*FuselageWidth\n",
    "WTBFXCentre = WingApex[0] + RootChord/2.0 + RootChord*0.1297 # 787: 23.8\n",
    "WTBFlength = 1.167*RootChord #787:26\n",
    "\n",
    "WBF_shape = act.make_ellipsoid([WTBFXCentre, 0, WTBFZ], WTBFlength, WTBFwidth, WTBFheight)\n",
    "WBF = AirconicsShape(components={'WBF': WBF_shape})"
   ]
  },
  {
   "cell_type": "markdown",
   "metadata": {},
   "source": [
    "## Engine + Pylon"
   ]
  },
  {
   "cell_type": "markdown",
   "metadata": {},
   "source": [
    "First, obtain the wing section and chord at which the engine will be fitted, then fit then engine. The default inputs to the Engine class produce a turbofan engine with Nacelle similar to that of the RR Trent 1000 / GEnx and its pylon (**Currently a flat plate only**)."
   ]
  },
  {
   "cell_type": "code",
   "execution_count": null,
   "metadata": {
    "collapsed": false,
    "scrolled": false
   },
   "outputs": [],
   "source": [
    "EngineSection, HChord = act.CutSect(Wing['Surface'], EngineSpanStation)\n",
    "Chord = HChord\n",
    "CEP = Chord.EndPoint()\n",
    "Centreloc = [CEP.X()-EngineCtrFwdOfLE*NacelleLength,\n",
    "            CEP.Y(), \n",
    "            CEP.Z()-EngineCtrBelowLE*NacelleLength]\n",
    "\n",
    "eng =  Engine(HChord,\n",
    "              CentreLocation=Centreloc,\n",
    "              ScarfAngle=Scarf_deg,\n",
    "              HighlightRadius=EngineDia/2.0,\n",
    "              MeanNacelleLength=NacelleLength)\n",
    "\n",
    "# Display\n",
    "renderer = TornadoWebRenderer()\n",
    "eng.Display(renderer)\n",
    "display(renderer)\n"
   ]
  },
  {
   "cell_type": "markdown",
   "metadata": {},
   "source": [
    "## Miscelaneous operations"
   ]
  },
  {
   "cell_type": "code",
   "execution_count": null,
   "metadata": {
    "collapsed": false,
    "scrolled": false
   },
   "outputs": [],
   "source": [
    "# Trim the inboard section of the main wing:\n",
    "CutCirc = act.make_circle3pt([0,WTBFwidth/4.,-45], [0,WTBFwidth/4.,45], [90,WTBFwidth/4.,0])\n",
    "CutCircDisk = act.PlanarSurf(CutCirc)\n",
    "Wing['Surface'] = act.TrimShapebyPlane(Wing['Surface'], CutCircDisk)\n",
    "\n",
    "#Mirror the main wing and tailplane using class methods:\n",
    "Wing2 = Wing.MirrorComponents(plane='xz')\n",
    "TP2 = TP.MirrorComponents(plane='xz')\n",
    "eng2 = eng.MirrorComponents(plane='xz')"
   ]
  },
  {
   "cell_type": "markdown",
   "metadata": {},
   "source": [
    "## Ipython Cell Renderer:"
   ]
  },
  {
   "cell_type": "code",
   "execution_count": null,
   "metadata": {
    "collapsed": false,
    "scrolled": false
   },
   "outputs": [],
   "source": [
    "renderer = TornadoWebRenderer()\n",
    "#    display all entities:\n",
    "# Fuselage and wing-body fairing\n",
    "Fus.Display(renderer)\n",
    "WBF.Display(renderer)\n",
    "\n",
    "# #The Wings:\n",
    "Wing.Display(renderer)\n",
    "Wing2.Display(renderer)\n",
    "\n",
    "#The Tailplane:\n",
    "TP.Display(renderer)\n",
    "TP2.Display(renderer)\n",
    "\n",
    "#The Fin:\n",
    "Fin.Display(renderer)\n",
    "\n",
    "#The Engines:\n",
    "eng.Display(renderer)\n",
    "eng2.Display(renderer)\n",
    "\n",
    "# Finally show the renderer\n",
    "display(renderer)\n"
   ]
  },
  {
   "cell_type": "markdown",
   "metadata": {},
   "source": [
    "# Development"
   ]
  },
  {
   "cell_type": "markdown",
   "metadata": {},
   "source": [
    "## Topology model"
   ]
  },
  {
   "cell_type": "markdown",
   "metadata": {},
   "source": [
    "This is a work in progress towards a topologically flexible model based on the tree-type definition described in Sobester [1]. Note the geometry is not currently defined by the tree however, the tree is simply stored as a result of adding components - this is for demonstration only, and the process is yet to be automated.\n",
    "\n",
    "The $xz$ mirror plane is included in this representation, between central objects (Fuselage, Fin) and the mirrored objects (Tail Plane, Wing, Engine)."
   ]
  },
  {
   "cell_type": "code",
   "execution_count": null,
   "metadata": {
    "collapsed": false,
    "scrolled": false
   },
   "outputs": [],
   "source": [
    "from airconics import Topology\n",
    "from IPython.display import Image\n",
    "import pydot"
   ]
  },
  {
   "cell_type": "code",
   "execution_count": null,
   "metadata": {
    "collapsed": false,
    "scrolled": false
   },
   "outputs": [],
   "source": [
    "topo_renderer = TornadoWebRenderer()\n",
    "\n",
    "topo = Topology()\n",
    "\n",
    "# Note: no checks are done on the validity of the tree yet,\n",
    "topo.AddPart(Fus, 'Fuselage', 3)\n",
    "topo.AddPart(Fin, 'Fin', 0)\n",
    "\n",
    "# Need to add a mirror plane here, arity zero\n",
    "from OCC.Core.gp import gp_Ax2, gp_Dir, gp_Pnt\n",
    "xz_pln = gp_Ax2(gp_Pnt(0, 0, 0), gp_Dir(0, 1, 0))\n",
    "topo.AddPart(xz_pln, 'Mirror', 0)\n",
    "\n",
    "# These are the mirrored entities, with their arities\n",
    "topo.AddPart(TP, 'Tail Plane', 0)\n",
    "topo.AddPart(Wing, 'Wing', 1)\n",
    "topo.AddPart(eng, 'Engine', 0)\n",
    "\n",
    "# print the Topology (resembles a LISP tree)\n",
    "print(topo)\n",
    "\n",
    "# Create the graph with pydot\n",
    "graph = pydot.graph_from_dot_data(topo.export_graphviz())\n",
    "Image(graph.create_png())"
   ]
  },
  {
   "cell_type": "code",
   "execution_count": null,
   "metadata": {
    "collapsed": false
   },
   "outputs": [],
   "source": [
    "# This line will mirror geometry 'under' (added after) the mirror plane\n",
    "topo.Build()\n",
    "\n",
    "topo.Display(topo_renderer)\n",
    "display(topo_renderer)"
   ]
  },
  {
   "cell_type": "markdown",
   "metadata": {},
   "source": [
    "Let's try some further tests to the topology class representation using some other examples. For now, these are empty geometries, and inputs to the `Fuselage`, `LiftingSurface` and `Engine` classes are not yet included in the `Topology` tree."
   ]
  },
  {
   "cell_type": "markdown",
   "metadata": {},
   "source": [
    "### Predator UAV\n",
    "![Predator UAV](predator.jpg)\n",
    "**Photo source: US Air Force**"
   ]
  },
  {
   "cell_type": "code",
   "execution_count": null,
   "metadata": {
    "collapsed": false,
    "scrolled": false
   },
   "outputs": [],
   "source": [
    "# Setup\n",
    "# Create mock components, without generating any geometry\n",
    "fus = Fuselage(construct_geometry=False)\n",
    "engine = Engine(construct_geometry=False)\n",
    "fin = LiftingSurface(construct_geometry=False)\n",
    "mirror_pln = gp_Ax2()\n",
    "wing = LiftingSurface(construct_geometry=False)\n",
    "Vfin = LiftingSurface(construct_geometry=False)\n",
    "\n",
    "# For now we must manually add parts and affinities\n",
    "topo = Topology()\n",
    "topo.AddPart(fus, 'Fuselage', 4)\n",
    "topo.AddPart(engine, 'engine', 0)\n",
    "topo.AddPart(fin, 'fin', 0)\n",
    "topo.AddPart(mirror_pln, 'mirror_pln', 0)\n",
    "topo.AddPart(wing, 'wing', 0)\n",
    "topo.AddPart(Vfin, 'V-Fin', 0)\n",
    "\n",
    "print(topo)\n",
    "\n",
    "graph = pydot.graph_from_dot_data(topo.export_graphviz())\n",
    "Image(graph.create_png())"
   ]
  },
  {
   "cell_type": "markdown",
   "metadata": {},
   "source": [
    "### Fairchild Republic A-10 Thunderbolt\n",
    "![Tunderbolt aircraft](thunderbolt.jpg)\n",
    "**Photo source: Airman Magazine 1999**"
   ]
  },
  {
   "cell_type": "code",
   "execution_count": null,
   "metadata": {
    "collapsed": false,
    "scrolled": false
   },
   "outputs": [],
   "source": [
    "# Setup\n",
    "# Create mock components, without generating any geometry\n",
    "fus = Fuselage(construct_geometry=False)\n",
    "mirror_pln = gp_Ax2()\n",
    "engine = Engine(construct_geometry=False)\n",
    "wing = LiftingSurface(construct_geometry=False)\n",
    "tailplane = LiftingSurface(construct_geometry=False)\n",
    "tail_fin = LiftingSurface(construct_geometry=False)\n",
    "\n",
    "topo = Topology()\n",
    "topo.AddPart(fus, 'Fuselage', 3)\n",
    "topo.AddPart(mirror_pln, 'mirror', 0)\n",
    "topo.AddPart(engine, 'powerplant', 0)\n",
    "topo.AddPart(tailplane, 'Tailplane', 1)\n",
    "topo.AddPart(tail_fin, \"Tail fin\", 0)\n",
    "topo.AddPart(wing, \"wing\", 0)\n",
    "\n",
    "print(topo)\n",
    "\n",
    "graph = pydot.graph_from_dot_data(topo.export_graphviz())\n",
    "Image(graph.create_png())"
   ]
  },
  {
   "cell_type": "markdown",
   "metadata": {},
   "source": [
    "### Scaled Composites Proteus\n",
    "![SC Proteus aircraft](Proteus.jpg)\n",
    "**Photo source: NASA**"
   ]
  },
  {
   "cell_type": "code",
   "execution_count": null,
   "metadata": {
    "collapsed": false,
    "scrolled": false
   },
   "outputs": [],
   "source": [
    "# Setup\n",
    "# Create mock components, without generating any geometry\n",
    "fus = Fuselage(construct_geometry=False)\n",
    "mirror_pln = gp_Ax2()\n",
    "engine = Engine(construct_geometry=False)\n",
    "wing_in = LiftingSurface(construct_geometry=False)\n",
    "tailplane = LiftingSurface(construct_geometry=False)\n",
    "pod = Fuselage(construct_geometry=False)\n",
    "finup = LiftingSurface(construct_geometry=False)\n",
    "findown = LiftingSurface(construct_geometry=False)\n",
    "wing_out = LiftingSurface(construct_geometry=False)\n",
    "\n",
    "\n",
    "topo = Topology()\n",
    "topo.AddPart(fus, 'Fuselage', 3)\n",
    "topo.AddPart(mirror_pln, 'mirror', 0)\n",
    "topo.AddPart(engine, 'powerplant', 0)\n",
    "topo.AddPart(wing, \"wing\", 0)\n",
    "topo.AddPart(wing_in, \"TP/inbbd wing\", 1)\n",
    "topo.AddPart(pod, 'Pod/tail boom', 3)\n",
    "topo.AddPart(wing_out, \"outbd wing\", 0)\n",
    "topo.AddPart(finup, \"Fin (up)\", 0)        \n",
    "topo.AddPart(findown, \"Fin (down)\", 0)\n",
    "\n",
    "for node in topo._Tree:\n",
    "    print(node)\n",
    "\n",
    "    \n",
    "graph = pydot.graph_from_dot_data(topo.export_graphviz())\n",
    "Image(graph.create_png())"
   ]
  },
  {
   "cell_type": "markdown",
   "metadata": {},
   "source": [
    "### References\n",
    "\n",
    "[1] Sobester, A., “Four Suggestions for Better Parametric Geometries,”\n",
    "    10th AIAA Multidisciplinary Design Optimization Conference,\n",
    "    AIAA SciTech, American Institute of Aeronautics and Astronautics,\n",
    "    jan 2014.\n",
    "    \n",
    "[2] Sobester, A., “Self-Designing Parametric Geometries,” 56th AIAA/ASCE/AH-\n",
    "    S/ASC Structures, Structural Dynamics, and Materials Conference, AIAA\n",
    "    SciTech, American Institute of Aeronautics and Astronautics, jan 2015."
   ]
  },
  {
   "cell_type": "code",
   "execution_count": null,
   "metadata": {
    "collapsed": true
   },
   "outputs": [],
   "source": []
  }
 ],
 "metadata": {
  "anaconda-cloud": {},
  "kernelspec": {
   "display_name": "Python [default]",
   "language": "python",
   "name": "python2"
  },
  "language_info": {
   "codemirror_mode": {
    "name": "ipython",
    "version": 2
   },
   "file_extension": ".py",
   "mimetype": "text/x-python",
   "name": "python",
   "nbconvert_exporter": "python",
   "pygments_lexer": "ipython2",
   "version": "2.7.12"
  }
 },
 "nbformat": 4,
 "nbformat_minor": 0
}
